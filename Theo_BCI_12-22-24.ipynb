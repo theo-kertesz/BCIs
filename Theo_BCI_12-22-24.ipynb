{
 "cells": [
  {
   "cell_type": "code",
   "execution_count": null,
   "metadata": {
    "id": "Gqt0Y-PNx4CO"
   },
   "outputs": [],
   "source": []
  },
  {
   "cell_type": "markdown",
   "metadata": {
    "id": "5TpXTOKPykFx"
   },
   "source": [
    "- BCI: brain computer interface, reads brain signals\n",
    "  - people that are paralyzed can control a computer with their brain signals\n",
    "  - with their brain signals, Theo wants to see how focused someone is / see their emotions\n",
    "  - just did a project at home last week where Theo built a BCI (bought sensors, coded something to filter the data, classify each mental state)\n",
    "  - all the companies that do this use AI to notice patterns in the data & such, trying to get more practice using AI with the brain data\n",
    "  - watched 15 minute video of guy coding AI with cancer data\n",
    "\n"
   ]
  },
  {
   "cell_type": "code",
   "execution_count": 3,
   "metadata": {
    "id": "XzBQ-VauzL0A"
   },
   "outputs": [],
   "source": [
    "import scipy.io # importing this will help us get the .mat files in\n",
    "import pandas as pd\n",
    "import numpy as np\n",
    "\n",
    "# all this is to get the raw data into a usable format\n",
    "\n",
    "channel_names = ['AF3', 'F7', 'F3', 'FC5', 'T7', 'P7', 'O1', 'O2',\n",
    "                 'P8', 'T8', 'FC6', 'F4', 'F8', 'AF4']\n",
    "\n",
    "filename = [\"eeg_record\", \".mat\"]\n",
    "\n",
    "\n",
    "\n",
    "\n"
   ]
  },
  {
   "cell_type": "code",
   "execution_count": null,
   "metadata": {},
   "outputs": [],
   "source": [
    "for i in range(1,35):\n",
    "  current_filename = filename[0] + str(i)\n",
    "  mat = scipy.io.loadmat(\"bci_data/\" + current_filename + filename[1])\n",
    "  raw_data = mat['o']['data'][0, 0]\n",
    "  eeg_data = raw_data[:, 3:17]\n",
    "  eeg_df = pd.DataFrame(eeg_data, columns = channel_names)\n",
    "  sampling_frequency = 128  # Hz\n",
    "  eeg_df['Time (s)'] = np.arange(0, eeg_data.shape[0]) / sampling_frequency\n",
    "  eeg_df.to_csv(\"csv_data/\" + current_filename + \".csv\")"
   ]
  },
  {
   "cell_type": "markdown",
   "metadata": {
    "id": "aLkQfcxQ2XQc"
   },
   "source": [
    "- key terms:\n",
    "  - linear regression: y as our response variable (dependent), a bunch of x's (x1, x2, x3, ..., xn) that are predictor variables (independent)\n",
    "    - assuming a linear relationship, we hope to find some coefficients B0, B1, B2, ... Bn such that we can create a linear function y = B0 + B1x1 + B2x2 + B3x3 + ... + Bnxn\n",
    "    "
   ]
  },
  {
   "cell_type": "markdown",
   "metadata": {
    "id": "rVtTK2pX8iRr"
   },
   "source": [
    "- game plan:\n",
    "  - convert all the .mat files to .csv\n",
    "  - feed the .csv files into chatgpt to get it to give all the data a classification (doesn't matter if it's right for now)\n",
    "  - use the classified data to train a few models!\n",
    "    - linear regression\n",
    "    - polynomial regression\n",
    "    - knn"
   ]
  },
  {
   "cell_type": "markdown",
   "metadata": {},
   "source": [
    "# WRONGGGGGGGG BELOW IS SO WRONG"
   ]
  },
  {
   "cell_type": "code",
   "execution_count": 2,
   "metadata": {
    "id": "EzgxcP0pA9F3"
   },
   "outputs": [],
   "source": [
    "#import mne\n",
    "from scipy.signal import welch\n",
    "\n",
    "# Load EEG data\n",
    "eeg_df = pd.read_csv('csv_data/eeg_record1.csv')\n",
    "\n",
    "# Define frequency bands\n",
    "bands = {\n",
    "    'delta': (0.5, 4),\n",
    "    'theta': (4, 8),\n",
    "    'alpha': (8, 13),\n",
    "    'beta': (13, 30)\n",
    "}\n",
    "\n",
    "# Sampling frequency\n",
    "sf = 128  # Hz\n",
    "\n",
    "\n",
    "# Function to compute band power\n",
    "def bandpower(data, sf, band, window_sec=1):\n",
    "    band = np.asarray(band)\n",
    "    low, high = band\n",
    "\n",
    "    #nperseg = int(sf * window_sec)\n",
    "    #nperseg = min(len(data), sf)\n",
    "    nperseg = min(len(data), int(sf * window_sec))\n",
    "\n",
    "    # Compute the modified periodogram (Welch)\n",
    "    freqs, psd = welch(data, sf, nperseg=nperseg)\n",
    "\n",
    "    # Frequency resolution\n",
    "    freq_res = freqs[1] - freqs[0]\n",
    "\n",
    "    # Find index of band in frequency vector\n",
    "    idx_band = np.logical_and(freqs >= low, freqs <= high)\n",
    "\n",
    "\n",
    "    # Integral approximation of the spectrum using Simpson's rule.\n",
    "    band_power = np.trapz(psd[idx_band], dx=freq_res)\n",
    "    return band_power\n",
    "\n",
    "'''\n",
    "\n",
    "# Initialize list to store classifications\n",
    "classifications = []\n",
    "\n",
    "\n",
    "\n",
    "# Iterate over each row (time point) in the DataFrame\n",
    "for index, row in eeg_df.iterrows():\n",
    "    # Extract EEG data (assuming columns 1 to 14 are EEG channels)\n",
    "    eeg_data = row[1:15].values\n",
    "\n",
    "    # Compute band powers\n",
    "    band_powers = {band: bandpower(eeg_data, sf, bands[band]) for band in bands}\n",
    "    print(band_powers)\n",
    "\n",
    "    # Classification logic\n",
    "    if band_powers['beta'] > band_powers['alpha'] and band_powers['beta'] > band_powers['theta']:\n",
    "        state = 'focused'\n",
    "    elif band_powers['alpha'] > band_powers['beta']:\n",
    "        state = 'unfocused'\n",
    "    elif band_powers['theta'] > band_powers['alpha'] and band_powers['theta'] > band_powers['beta']:\n",
    "        state = 'drowsy'\n",
    "    else:\n",
    "        state = 'unclassified'\n",
    "\n",
    "    classifications.append(state)\n",
    "\n",
    "# Add classifications to DataFrame\n",
    "eeg_df['Attention_State'] = classifications\n",
    "\n",
    "\n",
    "# Save to new CSV\n",
    "eeg_df.to_csv('csv_classified_data/eeg_record1_classified.csv', index=False)\n",
    "'''\n",
    "\n",
    "# Initialize list to store classifications\n",
    "classifications = []\n",
    "\n",
    "# Define a window size for data aggregation (e.g., 128 samples for 1 second)\n",
    "window_size = 128  # Number of rows to aggregate\n",
    "\n",
    "# Initialize list to store classifications for the entire DataFrame\n",
    "attention_states = []\n",
    "\n",
    "# Process segments\n",
    "for start in range(0, len(eeg_df), window_size):\n",
    "    # Extract the segment\n",
    "    segment = eeg_df.iloc[start:start + window_size, 1:15].values.flatten()\n",
    "\n",
    "    # Skip short segments\n",
    "    if len(segment) < window_size * 14:\n",
    "        continue\n",
    "\n",
    "    # Compute band powers and classify\n",
    "    band_powers = {band: bandpower(segment, sf, bands[band]) for band in bands}\n",
    "    if band_powers['beta'] > band_powers['alpha'] and band_powers['beta'] > band_powers['theta']:\n",
    "        state = 'focused'\n",
    "    elif band_powers['alpha'] > band_powers['beta']:\n",
    "        state = 'unfocused'\n",
    "    elif band_powers['theta'] > band_powers['alpha'] and band_powers['theta'] > band_powers['beta']:\n",
    "        state = 'drowsy'\n",
    "    else:\n",
    "        state = 'unclassified'\n",
    "\n",
    "    # Append the classification for each row in the segment\n",
    "    attention_states.extend([state] * window_size)\n",
    "\n",
    "# Ensure the output matches the DataFrame length\n",
    "attention_states = attention_states[:len(eeg_df)]  # Truncate if too long\n",
    "\n",
    "# Truncate the DataFrame to match the length of classifications\n",
    "truncated_eeg_df = eeg_df.iloc[:len(attention_states)].copy()\n",
    "\n",
    "# Assign the classifications to the truncated DataFrame\n",
    "truncated_eeg_df['Attention_State'] = attention_states\n",
    "\n",
    "# Save the truncated DataFrame\n",
    "truncated_eeg_df.to_csv('csv_classified_data/eeg_record1_classified.csv', index=False)"
   ]
  },
  {
   "cell_type": "code",
   "execution_count": 13,
   "metadata": {
    "id": "wOrkyNrRElbs"
   },
   "outputs": [],
   "source": [
    "# classify all 34 csvs\n",
    "\n",
    "filename = [\"eeg_record\", \".csv\"]\n",
    "\n",
    "\n",
    "for i in range(1,35):\n",
    "    current_filename = filename[0] + str(i) + filename[1]\n",
    "    eeg_df = pd.read_csv('csv_data/' + current_filename)\n",
    "    classifications = []\n",
    "    # Define a window size for data aggregation (e.g., 128 samples for 1 second)\n",
    "    window_size = 128  # Number of rows to aggregate\n",
    "\n",
    "    # Initialize list to store classifications for the entire DataFrame\n",
    "    attention_states = []\n",
    "\n",
    "    # Process segments\n",
    "    for start in range(0, len(eeg_df), window_size):\n",
    "        # Extract the segment\n",
    "        segment = eeg_df.iloc[start:start + window_size, 1:15].values.flatten()\n",
    "\n",
    "        # Skip short segments\n",
    "        if len(segment) < window_size * 14:\n",
    "            continue\n",
    "\n",
    "        # Compute band powers and classify\n",
    "        band_powers = {band: bandpower(segment, sf, bands[band]) for band in bands}\n",
    "        if band_powers['beta'] > band_powers['alpha'] and band_powers['beta'] > band_powers['theta']:\n",
    "            state = 'focused'\n",
    "        elif band_powers['alpha'] > band_powers['beta']:\n",
    "            state = 'unfocused'\n",
    "        elif band_powers['theta'] > band_powers['alpha'] and band_powers['theta'] > band_powers['beta']:\n",
    "            state = 'drowsy'\n",
    "        else:\n",
    "            state = 'unclassified'\n",
    "\n",
    "        # Append the classification for each row in the segment\n",
    "        attention_states.extend([state] * window_size)\n",
    "        \n",
    "    # Ensure the output matches the DataFrame length\n",
    "    attention_states = attention_states[:len(eeg_df)]  # Truncate if too long\n",
    "\n",
    "    # Truncate the DataFrame to match the length of classifications\n",
    "    truncated_eeg_df = eeg_df.iloc[:len(attention_states)].copy()\n",
    "\n",
    "    \n",
    "    truncated_eeg_df['Attention_State'] = attention_states\n",
    "    truncated_eeg_df.to_csv('csv_classified_data/' + filename[0] + str(i) + \"_classified.csv\", index=False)"
   ]
  },
  {
   "cell_type": "markdown",
   "metadata": {},
   "source": [
    "# RIGHTTTTT BELOW IS RIGHT"
   ]
  },
  {
   "cell_type": "code",
   "execution_count": 9,
   "metadata": {},
   "outputs": [],
   "source": [
    "eeg_df = pd.read_csv('csv_data/eeg_record1.csv')\n",
    "eeg_df.head()\n",
    "\n",
    "total_rows = len(eeg_df)\n",
    "\n",
    "focused_end = 10 * 60 * 128\n",
    "unfocused_end = 20 * 60 * 128\n",
    "\n",
    "eeg_df['Attention_State'] = 'drowsy'\n",
    "eeg_df.loc[:focused_end, 'Attention_State'] = 'focused'\n",
    "eeg_df.loc[focused_end:unfocused_end, 'Attention_State'] = 'unfocused'\n",
    "\n",
    "eeg_df.head()\n",
    "\n",
    "eeg_df.to_csv('csv_classified_data/eeg_record1_classified.csv', index=False)\n",
    "\n"
   ]
  },
  {
   "cell_type": "code",
   "execution_count": 10,
   "metadata": {},
   "outputs": [],
   "source": [
    "filename = [\"eeg_record\", \".csv\"]\n",
    "\n",
    "for i in range(1,35):\n",
    "    current_filename = filename[0] + str(i) + filename[1]\n",
    "    eeg_df = pd.read_csv('csv_data/' + current_filename)\n",
    "\n",
    "    eeg_df['Attention_State'] = 'drowsy'\n",
    "    eeg_df.loc[:focused_end, 'Attention_State'] = 'focused'\n",
    "    eeg_df.loc[focused_end:unfocused_end, 'Attention_State'] = 'unfocused'\n",
    "\n",
    "    eeg_df.to_csv('csv_classified_data/' + filename[0] + str(i) + \"_classified.csv\", index=False)"
   ]
  },
  {
   "cell_type": "code",
   "execution_count": 11,
   "metadata": {
    "colab": {
     "base_uri": "https://localhost:8080/"
    },
    "id": "9qabk5fyCd0T",
    "outputId": "fdedb0a2-d723-4355-8783-f8a5e005877b"
   },
   "outputs": [
    {
     "name": "stderr",
     "output_type": "stream",
     "text": [
      "/Users/lukeyang/micromamba/envs/cs109a/lib/python3.12/site-packages/sklearn/linear_model/_logistic.py:469: ConvergenceWarning: lbfgs failed to converge (status=1):\n",
      "STOP: TOTAL NO. of ITERATIONS REACHED LIMIT.\n",
      "\n",
      "Increase the number of iterations (max_iter) or scale the data as shown in:\n",
      "    https://scikit-learn.org/stable/modules/preprocessing.html\n",
      "Please also refer to the documentation for alternative solver options:\n",
      "    https://scikit-learn.org/stable/modules/linear_model.html#logistic-regression\n",
      "  n_iter_i = _check_optimize_result(\n"
     ]
    },
    {
     "name": "stdout",
     "output_type": "stream",
     "text": [
      "              precision    recall  f1-score   support\n",
      "\n",
      "      drowsy       1.00      1.00      1.00     31206\n",
      "     focused       1.00      1.00      1.00     15298\n",
      "   unfocused       1.00      1.00      1.00     15270\n",
      "\n",
      "    accuracy                           1.00     61774\n",
      "   macro avg       1.00      1.00      1.00     61774\n",
      "weighted avg       1.00      1.00      1.00     61774\n",
      "\n"
     ]
    }
   ],
   "source": [
    "# logistic regression\n",
    "# new package called sklearn which is good for a lot of statistical models\n",
    "\n",
    "from sklearn.model_selection import train_test_split\n",
    "from sklearn.linear_model import LogisticRegression\n",
    "from sklearn.metrics import mean_squared_error, r2_score\n",
    "from sklearn.metrics import classification_report\n",
    "\n",
    "\n",
    "# we'll split the data into a training portion that the model will be trained on, and a testing portion that we will use to evaluate it\n",
    "\n",
    "data = pd.read_csv('csv_classified_data/eeg_record1_classified.csv')\n",
    "X = data.drop(['Attention_State', 'Time (s)'], axis=1)\n",
    "y = data['Attention_State']\n",
    "\n",
    "X_train, X_test, y_train, y_test = train_test_split (X, y, test_size=0.2, random_state=42)\n",
    "\n",
    "model = LogisticRegression() # creates the object for the logistic regression model\n",
    "model.fit(X_train, y_train) # trains the model based on the training data\n",
    "\n",
    "y_pred = model.predict(X_test) # uses the model to predict y values for the test data\n",
    "\n",
    "print(classification_report(y_test, y_pred)) # compares the predicted y values to the actual y values for the test data\n",
    "\n"
   ]
  },
  {
   "cell_type": "code",
   "execution_count": 13,
   "metadata": {},
   "outputs": [
    {
     "name": "stdout",
     "output_type": "stream",
     "text": [
      "1\n",
      "2\n",
      "3\n",
      "4\n",
      "5\n",
      "6\n",
      "7\n",
      "8\n",
      "9\n",
      "10\n",
      "11\n",
      "12\n",
      "13\n",
      "14\n",
      "15\n",
      "16\n",
      "17\n",
      "18\n",
      "19\n",
      "20\n",
      "21\n",
      "22\n",
      "23\n",
      "24\n",
      "25\n",
      "26\n",
      "27\n",
      "28\n",
      "29\n",
      "30\n",
      "Best k: 2\n"
     ]
    },
    {
     "data": {
      "image/png": "[encoded data removed]",
      "text/plain": [
       "<Figure size 640x480 with 1 Axes>"
      ]
     },
     "metadata": {},
     "output_type": "display_data"
    },
    {
     "name": "stdout",
     "output_type": "stream",
     "text": [
      "              precision    recall  f1-score   support\n",
      "\n",
      "      drowsy       1.00      1.00      1.00     31206\n",
      "     focused       1.00      1.00      1.00     15298\n",
      "   unfocused       1.00      1.00      1.00     15270\n",
      "\n",
      "    accuracy                           1.00     61774\n",
      "   macro avg       1.00      1.00      1.00     61774\n",
      "weighted avg       1.00      1.00      1.00     61774\n",
      "\n"
     ]
    },
    {
     "ename": "NameError",
     "evalue": "name 'accuracy_score' is not defined",
     "output_type": "error",
     "traceback": [
      "\u001b[0;31m---------------------------------------------------------------------------\u001b[0m",
      "\u001b[0;31mNameError\u001b[0m                                 Traceback (most recent call last)",
      "Cell \u001b[0;32mIn[13], line 43\u001b[0m\n\u001b[1;32m     40\u001b[0m y_test_pred \u001b[38;5;241m=\u001b[39m model\u001b[38;5;241m.\u001b[39mpredict(X_test)\n\u001b[1;32m     42\u001b[0m \u001b[38;5;66;03m# Evaluate performance on the test set\u001b[39;00m\n\u001b[0;32m---> 43\u001b[0m \u001b[38;5;28mprint\u001b[39m(\u001b[38;5;124m\"\u001b[39m\u001b[38;5;124mAccuracy on Test Set:\u001b[39m\u001b[38;5;124m\"\u001b[39m, \u001b[43maccuracy_score\u001b[49m(y_test, y_test_pred))\n\u001b[1;32m     44\u001b[0m \u001b[38;5;28mprint\u001b[39m(\u001b[38;5;124m\"\u001b[39m\u001b[38;5;130;01m\\n\u001b[39;00m\u001b[38;5;124mClassification Report on Test Set:\u001b[39m\u001b[38;5;124m\"\u001b[39m)\n\u001b[1;32m     45\u001b[0m \u001b[38;5;28mprint\u001b[39m(classification_report(y_test, y_test_pred))\n",
      "\u001b[0;31mNameError\u001b[0m: name 'accuracy_score' is not defined"
     ]
    }
   ],
   "source": [
    "# knn model\n",
    "from sklearn.model_selection import cross_val_score\n",
    "from sklearn.neighbors import KNeighborsClassifier\n",
    "\n",
    "k_values = range(1, 31)  # Test k from 1 to 30\n",
    "cv_scores = [] \n",
    "\n",
    "for k in k_values:\n",
    "    model = KNeighborsClassifier(n_neighbors=k)\n",
    "    scores = cross_val_score(model, X_train, y_train, cv=5, scoring='accuracy')  # 5-fold CV\n",
    "    cv_scores.append(scores.mean())\n",
    "    print(k)\n",
    "    \n",
    "# Find the k with the highest cross-validation accuracy\n",
    "best_k = k_values[np.argmax(cv_scores)]\n",
    "print(f\"Best k: {best_k}\")\n",
    "\n",
    "# Plot the results\n",
    "import matplotlib.pyplot as plt\n",
    "plt.plot(k_values, cv_scores)\n",
    "plt.xlabel('Number of Neighbors (k)')\n",
    "plt.ylabel('Cross-Validated Accuracy')\n",
    "plt.title('k-NN Hyperparameter Tuning')\n",
    "plt.show()\n",
    "\n",
    "model = KNeighborsClassifier(n_neighbors=best_k)\n",
    "model.fit(X_train, y_train)\n",
    "\n",
    "y_pred = model.predict(X_test)\n",
    "\n",
    "print(classification_report(y_test, y_pred))\n",
    "\n",
    "# Define the model with k=1\n",
    "model = KNeighborsClassifier(n_neighbors=1)\n",
    "\n",
    "# Train the model on the training set\n",
    "model.fit(X_train, y_train)\n",
    "\n",
    "# Predict on the test set\n",
    "y_test_pred = model.predict(X_test)\n",
    "\n",
    "# Evaluate performance on the test set\n",
    "print(\"Accuracy on Test Set:\", accuracy_score(y_test, y_test_pred))\n",
    "print(\"\\nClassification Report on Test Set:\")\n",
    "print(classification_report(y_test, y_test_pred))"
   ]
  },
  {
   "cell_type": "code",
   "execution_count": null,
   "metadata": {},
   "outputs": [],
   "source": []
  }
 ],
 "metadata": {
  "colab": {
   "provenance": []
  },
  "kernelspec": {
   "display_name": "Python 3 (ipykernel)",
   "language": "python",
   "name": "python3"
  },
  "language_info": {
   "codemirror_mode": {
    "name": "ipython",
    "version": 3
   },
   "file_extension": ".py",
   "mimetype": "text/x-python",
   "name": "python",
   "nbconvert_exporter": "python",
   "pygments_lexer": "ipython3",
   "version": "3.12.6"
  }
 },
 "nbformat": 4,
 "nbformat_minor": 4
}
